{
 "cells": [
  {
   "cell_type": "markdown",
   "id": "92a245ea",
   "metadata": {},
   "source": [
    "# Image Search Engine\n",
    "- Provides search functionalty using images and text\n",
    "- Training Data is available at [Vision.cs](http://vision.cs.uiuc.edu/pascal-sentences/)"
   ]
  },
  {
   "cell_type": "code",
   "execution_count": null,
   "id": "a61a2759",
   "metadata": {},
   "outputs": [],
   "source": [
    "from PIL import Image\n",
    "from keras.callbacks import ModelCheckpoint\n",
    "from keras.models import load_model\n",
    "from keras_preprocessing import image\n",
    "from sklearn.model_selection import train_test_split\n",
    "from sklearn.utils import shuffle\n",
    "\n",
    "from utils import *\n",
    "from image_search_engine import image_search_engine\n",
    "import numpy as np\n",
    "import inspect\n",
    "import os\n",
    "import numpy as np\n",
    "from keras.applications.imagenet_utils import preprocess_input\n",
    "from keras.preprocessing import image\n",
    "import matplotlib.pyplot as plt\n",
    "from keras.preprocessing.image import ImageDataGenerator, img_to_array, load_img"
   ]
  },
  {
   "cell_type": "code",
   "execution_count": null,
   "id": "db07e9fc",
   "metadata": {},
   "outputs": [],
   "source": [
    "# Intialize matplotlib parameters\n",
    "\n",
    "params = {'legend.fontsize': 'x-large',\n",
    "          'figure.figsize': (15, 5),\n",
    "          'axes.labelsize': 'x-large',\n",
    "          'axes.titlesize':'x-large',\n",
    "          'xtick.labelsize':'x-large',\n",
    "          'ytick.labelsize':'x-large'}\n",
    "\n",
    "plt.rcParams.update(params)\n",
    "%matplotlib inline\n",
    "\n",
    "# pandas display data frames as tables\n",
    "from IPython.display import display, HTML\n",
    "\n",
    "import warnings\n",
    "warnings.filterwarnings('ignore')"
   ]
  },
  {
   "cell_type": "code",
   "execution_count": null,
   "id": "c3010f66",
   "metadata": {},
   "outputs": [],
   "source": [
    "\n",
    "glove_model_path = \"/Volumes/My Passport for Mac/model/glove.6B\"\n",
    "data_path = \"/Volumes/My Passport for Mac/data/imagesearch/\"\n",
    "features_path = \"/Volumes/My Passport for Mac/model/imagesearch/features\"\n",
    "file_mapping_path = \"/Volumes/My Passport for Mac/model/imagesearch/filemapping\"\n",
    "custom_features_path = \"/Volumes/My Passport for Mac/model/imagesearch/customfeatures\"\n",
    "custom_features_file_mapping_path = \"/Volumes/My Passport for Mac/model/imagesearch/customfilemapping\""
   ]
  },
  {
   "cell_type": "code",
   "execution_count": null,
   "id": "6c4c6d72",
   "metadata": {},
   "outputs": [],
   "source": [
    "model = image_search_engine.load_headless_pretrained_model()"
   ]
  },
  {
   "cell_type": "code",
   "execution_count": null,
   "id": "e64a89d5",
   "metadata": {},
   "outputs": [],
   "source": [
    "\n",
    "print(model.summary())"
   ]
  },
  {
   "cell_type": "code",
   "execution_count": null,
   "id": "d3888883",
   "metadata": {},
   "outputs": [],
   "source": [
    "images, vectors, image_paths, word_vectors = load_images_vectors_paths(glove_model_path, data_path)"
   ]
  },
  {
   "cell_type": "code",
   "execution_count": null,
   "id": "1b14ff31",
   "metadata": {},
   "outputs": [],
   "source": [
    "generate_image_features = True\n",
    "model = image_search_engine.load_headless_pretrained_model()\n",
    "if generate_image_features:\n",
    "    images_features, file_index = image_search_engine.generate_features(image_paths, model)\n",
    "    image_search_engine.save_features(features_path, images_features, file_mapping_path, file_index)\n",
    "else:\n",
    "    print(\"loading image features from disk\")\n",
    "    images_features, file_index = image_search_engine.load_features(features_path, file_mapping_path)"
   ]
  },
  {
   "cell_type": "code",
   "execution_count": null,
   "id": "0cb5aad4",
   "metadata": {},
   "outputs": [],
   "source": [
    "\n",
    "print(file_index[100])\n",
    "print(images_features[100])"
   ]
  },
  {
   "cell_type": "code",
   "execution_count": null,
   "id": "61de10c9",
   "metadata": {},
   "outputs": [],
   "source": [
    "\n",
    "image_index = image_search_engine.index_features(images_features)"
   ]
  },
  {
   "cell_type": "code",
   "execution_count": null,
   "id": "7171a603",
   "metadata": {},
   "outputs": [],
   "source": [
    "#print(file_index[200])\n",
    "#results = image_search_engine.search_index_by_key(200, image_index, file_index)"
   ]
  },
  {
   "cell_type": "code",
   "execution_count": null,
   "id": "d20901b6",
   "metadata": {},
   "outputs": [],
   "source": [
    "#print(results)\n",
    "#displayImages(results)\n",
    "# Index 284 is the index for the Siamese cat class in Imagenet\n",
    "#weighted_features = image_search_engine.get_weighted_features(200, images_features)\n",
    "#weighted_index = image_search_engine.index_features(weighted_features)\n",
    "#weighted_results = image_search_engine.search_index_by_key(200, weighted_index, file_index)\n",
    "#displayImages(weighted_results)"
   ]
  },
  {
   "cell_type": "markdown",
   "id": "1a8b74c6",
   "metadata": {},
   "source": [
    "### Image Search by Feature Vector"
   ]
  },
  {
   "cell_type": "code",
   "execution_count": null,
   "id": "37f0f076",
   "metadata": {},
   "outputs": [],
   "source": [
    "#image_path = \"/Volumes/My Passport for Mac/data/imagesearch/aeroplane/2008_000716.jpg\"\n",
    "#image_path = \"/Volumes/My Passport for Mac/data/imagesearch/bird/2008_000095.jpg\"\n",
    "image_path = \"/Volumes/My Passport for Mac/data/imagesearch/boat/2008_004014.jpg\"\n",
    "displayImagebyPath(image_path)"
   ]
  },
  {
   "cell_type": "code",
   "execution_count": null,
   "id": "e7eb3994",
   "metadata": {},
   "outputs": [],
   "source": [
    "fv = image_search_engine.get_feature_vector(model, image_path)\n",
    "results = image_search_engine.search_index_by_value(fv, image_index, file_index)\n",
    "displayImages(results)"
   ]
  },
  {
   "cell_type": "code",
   "execution_count": null,
   "id": "aa1d872a",
   "metadata": {},
   "outputs": [],
   "source": [
    "print(word_vectors[\"bottle\"])"
   ]
  },
  {
   "cell_type": "code",
   "execution_count": null,
   "id": "575cf7f7",
   "metadata": {},
   "outputs": [],
   "source": [
    "word_index, word_mapping = image_search_engine.build_word_index(word_vectors)"
   ]
  },
  {
   "cell_type": "code",
   "execution_count": null,
   "id": "0dbd7c22",
   "metadata": {},
   "outputs": [],
   "source": [
    "fv = word_vectors[\"ocean\"]\n",
    "results = image_search_engine.search_index_by_value(fv, word_index, word_mapping)\n",
    "print(results)"
   ]
  },
  {
   "cell_type": "markdown",
   "id": "d874abeb",
   "metadata": {},
   "source": [
    "## Custom Build for Text-to-Image and Image-to-Text Search"
   ]
  },
  {
   "cell_type": "code",
   "execution_count": null,
   "id": "edb4956c",
   "metadata": {},
   "outputs": [],
   "source": [
    "custom_model = image_search_engine.setup_custom_model()"
   ]
  },
  {
   "cell_type": "code",
   "execution_count": null,
   "id": "7c6aa6d7",
   "metadata": {},
   "outputs": [],
   "source": [
    "model_save_path = \"/Volumes/My Passport for Mac/model/imagesearch/model2.hdf5\"\n",
    "model_load_oath = \"/Volumes/My Passport for Mac/model/imagesearch/model2.hdf5\"\n",
    "\n",
    "train_model = True\n",
    "if train_model:\n",
    "    num_epochs = 50\n",
    "    batch_size = 32\n",
    "    print(\"Training for %s epochs, this might take a while, \"\n",
    "            \"change train_model to False to load pre-trained model\" % num_epochs)\n",
    "    x, y = shuffle(images, vectors, random_state=2)\n",
    "    X_train, X_test, y_train, y_test = train_test_split(x, y, test_size=0.2, random_state=2)\n",
    "    checkpointer = ModelCheckpoint(filepath='checkpoint.hdf5', verbose=1, save_best_only=True)\n",
    "    history = custom_model.fit(X_train, y_train, validation_data=(X_test, y_test),\n",
    "                         epochs=num_epochs, batch_size=batch_size, callbacks=[checkpointer])\n",
    "    custom_model.save(model_save_path)\n",
    "else:\n",
    "    st.write(\"Loading model from `%s`\" % model_load_path)\n",
    "    custom_model = load_model(model_load_path)"
   ]
  },
  {
   "cell_type": "markdown",
   "id": "68ab1cd3",
   "metadata": {},
   "source": [
    "## Visualization of Model Performance"
   ]
  },
  {
   "cell_type": "code",
   "execution_count": null,
   "id": "4cfc9804",
   "metadata": {},
   "outputs": [],
   "source": [
    "print(history.history[\"val_loss\"])"
   ]
  },
  {
   "cell_type": "code",
   "execution_count": null,
   "id": "de07e334",
   "metadata": {},
   "outputs": [],
   "source": [
    "f, ax2 = plt.subplots(1, 1, figsize=(15, 5))\n",
    "t = f.suptitle('Deep Neural Net Performance', fontsize=12)\n",
    "f.subplots_adjust(top=0.85, wspace=0.3)\n",
    "\n",
    "epochs = list(range(1,51))\n",
    "#ax1.plot(epochs, history.history['acc'], label='Train Accuracy')\n",
    "#ax1.plot(epochs, history.history['val_accuracy'], label='Validation Accuracy')\n",
    "#ax1.set_xticks(epochs)\n",
    "#ax1.set_ylabel('Accuracy Value')\n",
    "#ax1.set_xlabel('Epoch')\n",
    "#ax1.set_title('Accuracy')\n",
    "#l1 = ax1.legend(loc=\"best\")\n",
    "\n",
    "ax2.plot(epochs, history.history['loss'], label='Train Loss')\n",
    "ax2.plot(epochs, history.history['val_loss'], label='Validation Loss')\n",
    "ax2.set_xticks(epochs)\n",
    "ax2.set_ylabel('Loss Value')\n",
    "ax2.set_xlabel('Epoch')\n",
    "ax2.set_title('Loss')\n",
    "l2 = ax2.legend(loc=\"best\")"
   ]
  },
  {
   "cell_type": "code",
   "execution_count": null,
   "id": "735d5774",
   "metadata": {},
   "outputs": [],
   "source": [
    "generate_custom_features = True\n",
    "if generate_custom_features:\n",
    "    hybrid_images_features, file_mapping = image_search_engine.generate_features(image_paths, custom_model)\n",
    "    image_search_engine.save_features(custom_features_path, hybrid_images_features, custom_features_file_mapping_path,\n",
    "                                file_mapping)\n",
    "else:\n",
    "    hybrid_images_features, file_mapping = image_search_engine.load_features(custom_features_path,\n",
    "                                                                       custom_features_file_mapping_path)\n",
    "image_index = image_search_engine.index_features(hybrid_images_features, dims=300)"
   ]
  },
  {
   "cell_type": "markdown",
   "id": "d1926221",
   "metadata": {},
   "source": [
    "### Image to Text Search"
   ]
  },
  {
   "cell_type": "code",
   "execution_count": null,
   "id": "d161a629",
   "metadata": {},
   "outputs": [],
   "source": [
    "print(file_mapping[200])\n",
    "displayImagebyPath(file_mapping[200])"
   ]
  },
  {
   "cell_type": "markdown",
   "id": "8a8c13fd",
   "metadata": {},
   "source": [
    "### Text to Image Search"
   ]
  },
  {
   "cell_type": "code",
   "execution_count": null,
   "id": "2d6f0600",
   "metadata": {},
   "outputs": [],
   "source": [
    "results = image_search_engine.search_index_by_value(word_vectors[\"cat\"], image_index, file_mapping)\n",
    "displayImages(results)"
   ]
  },
  {
   "cell_type": "markdown",
   "id": "c746298a",
   "metadata": {},
   "source": [
    "#### Search for Untrained words"
   ]
  },
  {
   "cell_type": "code",
   "execution_count": null,
   "id": "cc2db0b3",
   "metadata": {},
   "outputs": [],
   "source": [
    "results = image_search_engine.search_index_by_value(word_vectors[\"ocean\"], image_index, file_mapping)\n",
    "displayImages(results)"
   ]
  }
 ],
 "metadata": {
  "kernelspec": {
   "display_name": "Python 3 (ipykernel)",
   "language": "python",
   "name": "python3"
  },
  "language_info": {
   "codemirror_mode": {
    "name": "ipython",
    "version": 3
   },
   "file_extension": ".py",
   "mimetype": "text/x-python",
   "name": "python",
   "nbconvert_exporter": "python",
   "pygments_lexer": "ipython3",
   "version": "3.10.11"
  }
 },
 "nbformat": 4,
 "nbformat_minor": 5
}
